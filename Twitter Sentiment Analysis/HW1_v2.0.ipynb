{
 "cells": [
  {
   "cell_type": "markdown",
   "metadata": {
    "deletable": true,
    "editable": true
   },
   "source": [
    "###  <span style=\"color:blue\"> Twitter Sentiment Analysis </span>                                                                                                  \n",
    "                                                                                                        By Priyanka Nirpase"
   ]
  },
  {
   "cell_type": "markdown",
   "metadata": {
    "deletable": true,
    "editable": true
   },
   "source": [
    "<b>Objective </b>: We will try to see the overall sentiments of people for a popular television program - WWE SmackDown Live which is also referred as SDLive. We are going to do this analysis based on tweets from Twitter."
   ]
  },
  {
   "cell_type": "markdown",
   "metadata": {
    "deletable": true,
    "editable": true
   },
   "source": [
    "We will be working on four different files:\n",
    "\n",
    "<b>positive.txt</b> -  contains positive words\n",
    "\n",
    "<b>negative.txt</b> - contains negative words\n",
    "\n",
    "<b>stop.txt</b> - contains stop words\n",
    "\n",
    "<b>SDLive.txt</b> - contains the tweets for SDLive\n"
   ]
  },
  {
   "cell_type": "markdown",
   "metadata": {
    "deletable": true,
    "editable": true
   },
   "source": [
    "Open the files for reading, then read and split them to get individual words.\n",
    "\n",
    "We will also need to convert all the words in SDLive.txt into lower case for appropriate comparison."
   ]
  },
  {
   "cell_type": "code",
   "execution_count": 18,
   "metadata": {
    "collapsed": false,
    "deletable": true,
    "editable": true
   },
   "outputs": [],
   "source": [
    "#Open and read the file. Convert all the letters to lowercase\n",
    "word = open('SDLive.txt', 'r')\n",
    "word1 = word.read().lower()"
   ]
  },
  {
   "cell_type": "code",
   "execution_count": 19,
   "metadata": {
    "collapsed": true
   },
   "outputs": [],
   "source": [
    "word.close()"
   ]
  },
  {
   "cell_type": "markdown",
   "metadata": {
    "deletable": true,
    "editable": true
   },
   "source": [
    "We will need to clean the data to remove all the punctuations. "
   ]
  },
  {
   "cell_type": "code",
   "execution_count": 20,
   "metadata": {
    "collapsed": false,
    "deletable": true,
    "editable": true
   },
   "outputs": [],
   "source": [
    "#Remove punctuation\n",
    "word1 = word1.replace(\"#\", '').replace(\"@\", '').replace(\",\", '').replace(\"!\", ''). replace(\":\", '').replace(\"?\", '').replace(\"...\", '').replace(\".\", '').replace(\"'\", '')"
   ]
  },
  {
   "cell_type": "code",
   "execution_count": 21,
   "metadata": {
    "collapsed": true,
    "deletable": true,
    "editable": true
   },
   "outputs": [],
   "source": [
    "# Split the string into words\n",
    "word1 = word1.split()"
   ]
  },
  {
   "cell_type": "code",
   "execution_count": 22,
   "metadata": {
    "collapsed": false,
    "deletable": true,
    "editable": true
   },
   "outputs": [
    {
     "name": "stdout",
     "output_type": "stream",
     "text": [
      "['rt', 'wwe', 'exclusive', 'has', 'the', 'ustitle', 'ever', 'looked', 'more', 'whats', 'the', 'word', 'glorious', 'sdlive', 'realbobbyroode', 'https//tco/n1uehrmtth', 'loved', 'tonight', 'sdlive', 'show', 'rt', 'wwe', 'congratulations', 'to', 'the', 'new', 'uschampion', 'realbobbyroode', 'sdlive', 'https//tco/znf7swsisa', 'rt', 'wwe', '\"we', 'know', 'exactly', 'who', 'you', 'are\"', '-', 'wwegable', '\"former', 'champions\"', '-', 'sheltyb803', 'statement', 'made', 'at', 'the', 'expense', 'of', 'sdlive', 'tagteamc\\xe2\\x80\\xa6', 'rt', 'rad_wife85', 'some', 'pictures', 'from', 'tonight\\xe2\\x80\\x99s', 'sdlive', 'wwelaredo', 'radzero83', 'https//tco/bi8uu8ipxk', 'rt', 'wwe', 'exclusive', 'the', 'ustitle', 'is', 'officially', 'glorious', 'sdlive', 'realbobbyroode', 'https//tco/sqlyuubfob', 'rt', 'wwe', 'our', 'new', 'uschampion', 'is', 'nothing', 'less', 'than', 'glorious', 'andnew', 'ustitle', 'sdlive', 'realbobbyroode', 'https//tco/k7wtbvyesk', 'rt', 'bobbyroode_com', 'wwe', 'instagram', 'photo', 'sdlive', 'glorious', 'uschampion', 'https//tco/sv3vuleljs', 'rt', 'wwe', 'exclusive']\n"
     ]
    }
   ],
   "source": [
    "# Verify the output\n",
    "print(word1[:100])"
   ]
  },
  {
   "cell_type": "code",
   "execution_count": 23,
   "metadata": {
    "collapsed": false,
    "deletable": true,
    "editable": true
   },
   "outputs": [],
   "source": [
    "# Open positive.txt\n",
    "f_pos = open('positive.txt', 'r')\n",
    "f_pos1 = f_pos.read()"
   ]
  },
  {
   "cell_type": "code",
   "execution_count": 24,
   "metadata": {
    "collapsed": false
   },
   "outputs": [],
   "source": [
    "f_pos.close()"
   ]
  },
  {
   "cell_type": "code",
   "execution_count": 25,
   "metadata": {
    "collapsed": true,
    "deletable": true,
    "editable": true
   },
   "outputs": [],
   "source": [
    "# Open negative.txt \n",
    "f_neg = open('negative.txt', 'r')\n",
    "f_neg1 = f_neg.read()"
   ]
  },
  {
   "cell_type": "code",
   "execution_count": 26,
   "metadata": {
    "collapsed": true
   },
   "outputs": [],
   "source": [
    "f_neg.close()"
   ]
  },
  {
   "cell_type": "code",
   "execution_count": 27,
   "metadata": {
    "collapsed": true,
    "deletable": true,
    "editable": true
   },
   "outputs": [],
   "source": [
    "# Open stop.txt\n",
    "f_stop = open('stop.txt', 'r')\n",
    "f_stop1 = f_stop.read()"
   ]
  },
  {
   "cell_type": "code",
   "execution_count": 28,
   "metadata": {
    "collapsed": true
   },
   "outputs": [],
   "source": [
    "f_stop.close()"
   ]
  },
  {
   "cell_type": "markdown",
   "metadata": {
    "deletable": true,
    "editable": true
   },
   "source": [
    "Now, write a for loop to check if the word from the tweet is present in positive or negative or stop file"
   ]
  },
  {
   "cell_type": "code",
   "execution_count": 29,
   "metadata": {
    "collapsed": false,
    "deletable": true,
    "editable": true
   },
   "outputs": [],
   "source": [
    "# For loop for checking if a word is positive or negative or a stop word\n",
    "Pos = 0\n",
    "Neg = 0\n",
    "for i in word1:\n",
    "    if i in f_stop1:\n",
    "        continue\n",
    "    if i in f_pos1:\n",
    "        Pos = Pos + 1        \n",
    "    if i in f_neg1:\n",
    "        Neg = Neg - 1"
   ]
  },
  {
   "cell_type": "code",
   "execution_count": 30,
   "metadata": {
    "collapsed": false,
    "deletable": true,
    "editable": true
   },
   "outputs": [
    {
     "name": "stdout",
     "output_type": "stream",
     "text": [
      "Pos : 1016\n",
      "Neg : -945\n",
      "Sum: 71\n"
     ]
    }
   ],
   "source": [
    "# Print count for positive and negative and their sum\n",
    "print(\"Pos : \" + str(Pos))\n",
    "print(\"Neg : \" + str(Neg))\n",
    "\n",
    "sum = Pos + Neg\n",
    "\n",
    "print(\"Sum: \" + str(sum))"
   ]
  },
  {
   "cell_type": "code",
   "execution_count": 31,
   "metadata": {
    "collapsed": false,
    "deletable": true,
    "editable": true
   },
   "outputs": [
    {
     "name": "stdout",
     "output_type": "stream",
     "text": [
      "Overall sentiments are positive :1016\n"
     ]
    }
   ],
   "source": [
    "# Print the final conclusion\n",
    "\n",
    "if sum > 0:\n",
    "    print(\"Overall sentiments are positive :\" + str(Pos))\n",
    "if sum < 0:\n",
    "    print(\"Overall sentiments are negative \" + str(abs(Neg)))\n",
    "if sum == 0:\n",
    "    print(\"Overall sentiments are neither positive nor negative\")"
   ]
  }
 ],
 "metadata": {
  "kernelspec": {
   "display_name": "Python 2",
   "language": "python",
   "name": "python2"
  },
  "language_info": {
   "codemirror_mode": {
    "name": "ipython",
    "version": 2
   },
   "file_extension": ".py",
   "mimetype": "text/x-python",
   "name": "python",
   "nbconvert_exporter": "python",
   "pygments_lexer": "ipython2",
   "version": "2.7.13"
  }
 },
 "nbformat": 4,
 "nbformat_minor": 2
}
